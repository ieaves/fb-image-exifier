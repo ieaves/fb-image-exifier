{
 "cells": [
  {
   "cell_type": "code",
   "execution_count": 194,
   "metadata": {},
   "outputs": [],
   "source": [
    "import os\n",
    "import shutil\n",
    "import requests\n",
    "import piexif\n",
    "import datetime\n",
    "import abc\n",
    "import fractions\n",
    "import math\n",
    "\n",
    "directory = os.path.join(os.getcwd(), 'photos_and_videos')\n"
   ]
  },
  {
   "cell_type": "code",
   "execution_count": 199,
   "metadata": {},
   "outputs": [],
   "source": [
    "import json\n",
    "def get_json_files(directory):\n",
    "    direc = os.path.join(directory, 'album')\n",
    "    files = [os.path.join(direc, f) for f in os.listdir(direc) if f.endswith('json')]\n",
    "    return files\n",
    "\n",
    "def load_json(json_file, directory):\n",
    "    with open(json_file, 'r') as f:\n",
    "        json_result = json.load(f)\n",
    "    \n",
    "    json_result['photos'] = build_absolute_uris(json_result['photos'], directory)\n",
    "    return json_result\n",
    "\n",
    "def build_absolute_uris(json_list, directory):\n",
    "    for js in json_list:\n",
    "        js['uri'] = os.path.join(directory, js['uri'])\n",
    "    return json_list\n",
    "    \n",
    "def build_json_objs(directory):\n",
    "    json_files = get_json_files(directory)\n",
    "    subdir = os.path.dirname(directory)\n",
    "    json_objs = [load_json(file, subdir) for file in json_files]\n",
    "    return json_objs\n",
    "json_objs = build_json_objs(directory)"
   ]
  },
  {
   "cell_type": "code",
   "execution_count": null,
   "metadata": {},
   "outputs": [],
   "source": []
  },
  {
   "cell_type": "code",
   "execution_count": 49,
   "metadata": {},
   "outputs": [],
   "source": [
    "test_ip = '85.105.51.172'\n",
    "url = f'https://ipapi.co/{test_ip}/json/'\n",
    "resp = requests.get(url)\n",
    "example_resp = resp.json()"
   ]
  },
  {
   "cell_type": "code",
   "execution_count": 201,
   "metadata": {},
   "outputs": [],
   "source": [
    "def decdeg2dms(dd):\n",
    "    mnt, sec = divmod(dd * 3600, 60)\n",
    "    deg, mnt = divmod(mnt, 60)\n",
    "    return deg, mnt, sec\n",
    "\n",
    "\n",
    "def get_ip_info(ip):\n",
    "    url = f'https://ipapi.co/{ip}/json/'\n",
    "    resp = requests.get(url)\n",
    "    if not resp.ok:\n",
    "        raise Exception\n",
    "    return resp.json()\n",
    "\n",
    "class exif_obj:\n",
    "    def __init__(self, exif_field, exif_id):\n",
    "        self.exif_field = exif_field\n",
    "        self.exif_id = exif_id\n",
    "\n",
    "    def update(self, exif, value, overwrite=False):\n",
    "        if overwrite or self.exif_id not in exif[self.exif_field]:\n",
    "            exif[self.exif_field][self.exif_id] = self.encoder(value)\n",
    "        return exif\n",
    "\n",
    "    @abc.abstractmethod\n",
    "    def encoder(self, value):\n",
    "        pass\n",
    "\n",
    "class timestamp(exif_obj):\n",
    "    def encoder(self, value):\n",
    "        dt_format = \"%Y:%m:%d %H:%M:%S\"\n",
    "        dt = datetime.datetime.fromtimestamp(value)\n",
    "        result = dt.strftime(dt_format).encode('utf-8')\n",
    "        return result\n",
    "\n",
    "class coordinate():\n",
    "    def __init__(self, exif_id):\n",
    "        self.exif_field = \"GPS\"\n",
    "        self.exif_id = exif_id\n",
    "        if self.exif_id == piexif.GPSIFD.GPSLatitude:\n",
    "            self.exif_ref_id = piexif.GPSIFD.GPSLatitudeRef\n",
    "            self.direction = ['N', 'S']\n",
    "        elif self.exif_id == piexif.GPSIFD.GPSLongitude:\n",
    "            self.exif_ref_id = piexif.GPSIFD.GPSLongitudeRef\n",
    "            self.direction = ['E', 'W']\n",
    "        else:\n",
    "            raise Exception\n",
    "        \n",
    "        self.direction = [d.encode('utf-8') for d in self.direction]\n",
    "\n",
    "    def update(self, exif, value, overwrite=False):\n",
    "        if overwrite or self.exif_id not in exif[self.exif_field]:\n",
    "            res = self.encoder(abs(value))\n",
    "            exif[self.exif_field][self.exif_ref_id] = self.direction[value < 0]\n",
    "            exif[self.exif_field][self.exif_id] = res\n",
    "        return exif\n",
    "\n",
    "    def encoder(self, value):\n",
    "        dms = self.dec_deg_to_dms(value)\n",
    "        return self.rational_dms(dms)\n",
    "\n",
    "    @staticmethod\n",
    "    def dec_deg_to_dms(degrees):\n",
    "        degs = degrees // 1\n",
    "        degrees = (degrees - degs) * 60\n",
    "        mins = degrees // 1\n",
    "        secs = (degrees - mins) * 60\n",
    "        return degs, mins, secs\n",
    "    \n",
    "    @staticmethod\n",
    "    def rational_dms(dms_tup):\n",
    "        val_range = 4294967295\n",
    "        res = [fractions.Fraction.from_float(x).limit_denominator(int(val_range / max(math.ceil(x), 1))) \n",
    "               for x in dms_tup]\n",
    "\n",
    "\n",
    "        res = tuple((r.numerator, r.denominator) for r in res)\n",
    "        return res\n",
    "    \n",
    "class location_inferer:\n",
    "    def __init__(self):\n",
    "        self.ip_map = {}\n",
    "\n",
    "    @staticmethod\n",
    "    def get_ip(photo_meta):\n",
    "        try:\n",
    "            ip_addr = photo_meta['media_metadata']['photo_metadata']['upload_ip']\n",
    "        except:\n",
    "            ip_addr = None\n",
    "        return ip_addr\n",
    "    \n",
    "    def get(self, ip, attribute=None):\n",
    "        if ip not in self.ip_map:\n",
    "            self.ip_map[ip] = get_ip_info(ip)    \n",
    "\n",
    "        if not attribute:\n",
    "            return self.ip_map[ip]\n",
    "        else:\n",
    "            return self.ip_map[ip][attribute]\n",
    "\n",
    "        \n",
    "    \n",
    "_metadata_map = {'creation_timestamp': timestamp('Exif', piexif.ExifIFD.DateTimeOriginal),\n",
    "                 'latitude': coordinate(piexif.GPSIFD.GPSLatitude),\n",
    "                 'longitude': coordinate(piexif.GPSIFD.GPSLongitude),}\n",
    "\n",
    "def parse_metadata(metadata, loc_inferrer):\n",
    "    album_name = metadata['name']\n",
    "\n",
    "    new_meta = []\n",
    "    for item in metadata['photos']:\n",
    "        res = {'uri': item['uri']}\n",
    "        exif_data = {attr: item[attr] for attr in _metadata_map.keys() if attr in item}\n",
    "        \n",
    "        ip = loc_inferrer.get_ip(item)\n",
    "        if ip:\n",
    "            exif_data['latitude'] = exif_data.get('latitude', loc_inferrer.get(ip, 'latitude'))\n",
    "            exif_data['longitude'] = exif_data.get('longitude', loc_inferrer.get(ip, 'longitude'))\n",
    "\n",
    "        res['exif_data'] = exif_data\n",
    "        new_meta.append(res)\n",
    "\n",
    "    return {'album_name': album_name, 'metadata': new_meta}\n",
    "\n",
    "def get_updated_exif(meta):\n",
    "    original_exif = piexif.load(meta['uri'])\n",
    "    updated_exif = original_exif.copy()\n",
    "    for key, updater in _metadata_map.items():\n",
    "        if key in meta['exif_data']:\n",
    "            value = meta['exif_data'][key]\n",
    "            updater.update(updated_exif, value)\n",
    "    return updated_exif\n",
    "\n",
    "def update_exif(meta):\n",
    "    updated_exif = get_updated_exif(meta)\n",
    "    exif_bytes = piexif.dump(updated_exif)\n",
    "    piexif.insert(exif_bytes, meta['uri'])\n",
    "\n",
    "def update_metas(json_objs):\n",
    "    for i, metadata in enumerate(json_objs):\n",
    "\n",
    "        for parsed_meta in parse_metadata(metadata):\n",
    "            update_exif(parsed_meta)\n"
   ]
  },
  {
   "cell_type": "code",
   "execution_count": 186,
   "metadata": {},
   "outputs": [],
   "source": [
    "loc_inferrer = location_inferer()"
   ]
  },
  {
   "cell_type": "code",
   "execution_count": 204,
   "metadata": {},
   "outputs": [],
   "source": [
    "def write_updated_images(parsed_meta, output_folder):\n",
    "    final_dir = os.path.join(output_folder, parsed_meta['album_name'])\n",
    "    os.makedirs(final_dir, exist_ok=True)\n",
    "    for meta in parsed_meta['metadata']:\n",
    "        inp_file = meta['uri']\n",
    "        out_file = os.path.join(final_dir, os.path.basename(inp_file))\n",
    "        temp_meta = meta.copy()\n",
    "        \n",
    "        temp_meta['uri'] = out_file\n",
    "        shutil.copy2(inp_file, out_file)\n",
    "        update_exif(temp_meta)\n",
    "    \n",
    "def update_all(json_objs, loc_inferrer, output_folder):\n",
    "    if os.path.exists(output_folder):\n",
    "        shutil.rmtree(output_folder)\n",
    "    for i, metadata in enumerate(json_objs):\n",
    "        parsed_meta = parse_metadata(metadata, loc_inferrer)\n",
    "        write_updated_images(parsed_meta, output_folder)\n",
    "        \n",
    "output_folder = os.path.join(os.getcwd(), 'temp')\n",
    "update_all(json_objs, loc_inferrer, output_folder)\n"
   ]
  },
  {
   "cell_type": "code",
   "execution_count": 127,
   "metadata": {},
   "outputs": [
    {
     "data": {
      "text/plain": [
       "{'0th': {282: (1, 1),\n",
       "  283: (1, 1),\n",
       "  296: 1,\n",
       "  306: b'2019:05:24 01:37:18',\n",
       "  531: 1,\n",
       "  34665: 122},\n",
       " 'Exif': {36864: b'0231',\n",
       "  36867: b'2011:11:21 03:31:14',\n",
       "  37121: b'\\x01\\x02\\x03\\x00',\n",
       "  40960: b'0100',\n",
       "  40961: 65535},\n",
       " 'GPS': {1: b'N',\n",
       "  2: ((40, 1), (4, 1), (1488, 25)),\n",
       "  3: b'W',\n",
       "  4: ((75, 1), (53, 1), (4982162003, 1431655748))},\n",
       " 'Interop': {},\n",
       " '1st': {},\n",
       " 'thumbnail': None}"
      ]
     },
     "execution_count": 127,
     "metadata": {},
     "output_type": "execute_result"
    }
   ],
   "source": [
    "parsed_meta = parse_metadata(json_objs[21], loc_inferrer)['metadata']\n",
    "for meta in parsed_meta:\n",
    "    updated_exif = get_updated_exif(meta)\n",
    "    try:\n",
    "        piexif.dump(updated_exif)\n",
    "    except:\n",
    "        break\n",
    "updated_exif"
   ]
  },
  {
   "cell_type": "code",
   "execution_count": 128,
   "metadata": {},
   "outputs": [
    {
     "data": {
      "text/plain": [
       "{'uri': 'photos_and_videos/ProfilePictures_obrU0fpx3g/316111_10150461039882559_2028167785_n_10150461039882559.jpg',\n",
       " 'exif_data': {'creation_timestamp': 1321846274,\n",
       "  'latitude': 40.0832,\n",
       "  'longitude': -75.8843}}"
      ]
     },
     "execution_count": 128,
     "metadata": {},
     "output_type": "execute_result"
    }
   ],
   "source": [
    "meta"
   ]
  },
  {
   "cell_type": "code",
   "execution_count": 130,
   "metadata": {},
   "outputs": [
    {
     "data": {
      "text/plain": [
       "((-76, 1), (6, 1), (1413, 25))"
      ]
     },
     "execution_count": 130,
     "metadata": {},
     "output_type": "execute_result"
    }
   ],
   "source": [
    "_metadata_map['longitude'].encoder(meta['exif_data']['longitude'])"
   ]
  },
  {
   "cell_type": "code",
   "execution_count": 153,
   "metadata": {},
   "outputs": [
    {
     "data": {
      "text/plain": [
       "((75, 1), (53, 1), (87, 25))"
      ]
     },
     "execution_count": 153,
     "metadata": {},
     "output_type": "execute_result"
    }
   ],
   "source": [
    "def get_updated_exif(meta):\n",
    "    original_exif = piexif.load(meta['uri'])\n",
    "    updated_exif = original_exif.copy()\n",
    "    for key, updater in _metadata_map.items():\n",
    "        if key in meta['exif_data']:\n",
    "            value = meta['exif_data'][key]\n",
    "            if key == 'longitude':\n",
    "                return updater, value\n",
    "            updater.update(updated_exif, value)\n",
    "    return updated_exif\n",
    "enc, v = get_updated_exif(meta)\n",
    "enc.encoder(abs(v))"
   ]
  },
  {
   "cell_type": "code",
   "execution_count": 161,
   "metadata": {},
   "outputs": [
    {
     "data": {
      "text/plain": [
       "0"
      ]
     },
     "execution_count": 161,
     "metadata": {},
     "output_type": "execute_result"
    }
   ],
   "source": [
    "import math\n",
    "math.ceil(0)"
   ]
  },
  {
   "cell_type": "code",
   "execution_count": 158,
   "metadata": {},
   "outputs": [
    {
     "data": {
      "text/plain": [
       "0"
      ]
     },
     "execution_count": 158,
     "metadata": {},
     "output_type": "execute_result"
    }
   ],
   "source": [
    "math.ceil(-.1)"
   ]
  },
  {
   "cell_type": "code",
   "execution_count": null,
   "metadata": {},
   "outputs": [],
   "source": []
  }
 ],
 "metadata": {
  "kernelspec": {
   "display_name": "Python 3",
   "language": "python",
   "name": "python3"
  },
  "language_info": {
   "codemirror_mode": {
    "name": "ipython",
    "version": 3
   },
   "file_extension": ".py",
   "mimetype": "text/x-python",
   "name": "python",
   "nbconvert_exporter": "python",
   "pygments_lexer": "ipython3",
   "version": "3.6.8"
  }
 },
 "nbformat": 4,
 "nbformat_minor": 2
}
